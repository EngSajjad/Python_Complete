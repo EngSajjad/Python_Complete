{
 "cells": [
  {
   "cell_type": "code",
   "execution_count": null,
   "id": "785e7847",
   "metadata": {},
   "outputs": [],
   "source": [
    "import pyautogui as pg\n",
    "import time\n",
    "import keyboard\n"
   ]
  },
  {
   "cell_type": "code",
   "execution_count": null,
   "id": "450ddacb",
   "metadata": {},
   "outputs": [],
   "source": [
    "time.sleep(3)\n",
    "print(pg.position())"
   ]
  },
  {
   "cell_type": "code",
   "execution_count": null,
   "id": "ec9d1224",
   "metadata": {},
   "outputs": [],
   "source": []
  },
  {
   "cell_type": "code",
   "execution_count": 20,
   "id": "aaa2302d",
   "metadata": {},
   "outputs": [
    {
     "name": "stdout",
     "output_type": "stream",
     "text": [
      "q pressed, ending loop\n"
     ]
    }
   ],
   "source": [
    "import pyautogui as pg\n",
    "import time\n",
    "import keyboard\n",
    "\n",
    "\n",
    "while True:\n",
    "    \n",
    "       \n",
    "        \n",
    "        pg.moveTo()\n",
    "        pg.moveTo()\n",
    "        pg.moveTo()\n",
    "        pg.moveTo()\n",
    "        pg.moveTo()\n",
    "        pg.moveTo()\n",
    "        pg.moveTo()\n",
    "        if keyboard.is_pressed(\"q\"):\n",
    "            print(\"q pressed, ending loop\")\n",
    "            break\n",
    "        "
   ]
  },
  {
   "cell_type": "code",
   "execution_count": 19,
   "id": "1be75ad6",
   "metadata": {},
   "outputs": [
    {
     "name": "stdout",
     "output_type": "stream",
     "text": [
      "Point(x=699, y=247)\n",
      "Point(x=740, y=401)\n",
      "Point(x=809, y=228)\n",
      "Point(x=879, y=390)\n",
      "Point(x=767, y=442)\n",
      "Point(x=761, y=273)\n",
      "Point(x=969, y=368)\n",
      "Point(x=743, y=460)\n",
      "Point(x=617, y=285)\n",
      "Point(x=743, y=190)\n",
      "Point(x=950, y=274)\n",
      "Point(x=782, y=496)\n",
      "Point(x=652, y=375)\n",
      "Point(x=731, y=210)\n",
      "Point(x=731, y=210)\n",
      "Point(x=731, y=210)\n",
      "q pressed, ending loop\n"
     ]
    }
   ],
   "source": [
    "import pyautogui as pg\n",
    "import time\n",
    "import keyboard\n",
    "\n",
    "while True:\n",
    "    time.sleep(1) \n",
    "    print(pg.position())\n",
    "    \n",
    "\n",
    "    if keyboard.is_pressed(\"q\"):\n",
    "        print(\"q pressed, ending loop\")\n",
    "        break"
   ]
  },
  {
   "cell_type": "code",
   "execution_count": null,
   "id": "dc9b7de9",
   "metadata": {},
   "outputs": [],
   "source": [
    "import pyautogui as pg\n",
    "import time\n",
    "import keyboard\n",
    "\n",
    "while True:\n",
    "    \n",
    "        \n",
    "        pg.moveTo(1243, 2)\n",
    "        pg.click()\n",
    "        pg.moveTo(660, 755)\n",
    "        pg.click()\n",
    "        \n",
    "        if keyboard.is_pressed(\"q\"):\n",
    "\n",
    "            print(\"q pressed, ending loop\")\n",
    "            break\n",
    "        "
   ]
  },
  {
   "cell_type": "code",
   "execution_count": null,
   "id": "6e700df9",
   "metadata": {},
   "outputs": [],
   "source": [
    "pg.alert('dhgfjgl')"
   ]
  },
  {
   "cell_type": "code",
   "execution_count": null,
   "id": "9aac2521",
   "metadata": {},
   "outputs": [],
   "source": [
    "pg.prompt(text='', title='' , default='')"
   ]
  }
 ],
 "metadata": {
  "kernelspec": {
   "display_name": "Python 3.9.12 ('base')",
   "language": "python",
   "name": "python3"
  },
  "language_info": {
   "codemirror_mode": {
    "name": "ipython",
    "version": 3
   },
   "file_extension": ".py",
   "mimetype": "text/x-python",
   "name": "python",
   "nbconvert_exporter": "python",
   "pygments_lexer": "ipython3",
   "version": "3.9.12"
  },
  "vscode": {
   "interpreter": {
    "hash": "6064441d35ed422bc426c39eaeb08484c374cf1f5166c932ab8e99e0ab3deae8"
   }
  }
 },
 "nbformat": 4,
 "nbformat_minor": 5
}

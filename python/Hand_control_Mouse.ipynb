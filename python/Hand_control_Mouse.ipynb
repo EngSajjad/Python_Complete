{
 "cells": [
  {
   "cell_type": "markdown",
   "id": "1ae0dda7",
   "metadata": {},
   "source": [
    "# Show camera"
   ]
  },
  {
   "cell_type": "code",
   "execution_count": null,
   "id": "aab4badd",
   "metadata": {},
   "outputs": [],
   "source": [
    "import cv2\n",
    "cam = cv2.VideoCapture(0)\n",
    "while True:\n",
    "    _ , frame = cam.read()\n",
    "    cv2.imshow('Virtual Mouse', frame)\n",
    "    cv2.waitKey(1)"
   ]
  },
  {
   "cell_type": "markdown",
   "id": "bdee7ae0",
   "metadata": {},
   "source": [
    "# Hand Detect(L_2,4,7,8,9,10)"
   ]
  },
  {
   "cell_type": "code",
   "execution_count": null,
   "id": "50870b44",
   "metadata": {},
   "outputs": [],
   "source": [
    "import cv2\n",
    "import mediapipe as mp\n",
    "cam = cv2.VideoCapture(0)\n",
    "hand_detctor = mp.solutions.hands.Hands() \n",
    "while True:\n",
    "    _ , frame = cam.read()\n",
    "    rgb_frame = cv2.cvtColor(frame, cv2.COLOR_BGR2RGB)\n",
    "    output = hand_detctor.process(rgb_frame)\n",
    "    hands = output.multi_hand_landmarks\n",
    "    print(hands)\n",
    "    cv2.imshow('Virtual Mouse', frame)\n",
    "    cv2.waitKey(1) "
   ]
  },
  {
   "cell_type": "markdown",
   "id": "d1ad11da",
   "metadata": {},
   "source": [
    "# Hand landmarks(L_-10,11,12,5,13)"
   ]
  },
  {
   "cell_type": "code",
   "execution_count": null,
   "id": "ff319559",
   "metadata": {},
   "outputs": [],
   "source": [
    "import cv2\n",
    "import mediapipe as mp\n",
    "cam = cv2.VideoCapture(0)\n",
    "hand_detctor = mp.solutions.hands.Hands()\n",
    "drawing_utils = mp.solutions.drawing_utils\n",
    "while True:\n",
    "    _ , frame = cam.read()\n",
    "    rgb_frame = cv2.cvtColor(frame, cv2.COLOR_BGR2RGB)\n",
    "    output = hand_detctor.process(rgb_frame)\n",
    "    hands = output.multi_hand_landmarks\n",
    "    if hands:\n",
    "        for hand in hands:\n",
    "            drawing_utils.draw_landmarks(frame, hand)\n",
    "    cv2.imshow('Virtual Mouse', frame)\n",
    "    cv2.waitKey(1)  "
   ]
  },
  {
   "cell_type": "markdown",
   "id": "3ed06483",
   "metadata": {},
   "source": [
    "## seprat finger T & Get Id(L_14,15,16,17,18 )"
   ]
  },
  {
   "cell_type": "code",
   "execution_count": null,
   "id": "f33cdcb3",
   "metadata": {},
   "outputs": [],
   "source": [
    "import cv2\n",
    "import mediapipe as mp\n",
    "cam = cv2.VideoCapture(0)\n",
    "hand_detctor = mp.solutions.hands.Hands()\n",
    "drawing_utils = mp.solutions.drawing_utils\n",
    "while True:\n",
    "    _ , frame = cam.read()\n",
    "    rgb_frame = cv2.cvtColor(frame, cv2.COLOR_BGR2RGB)\n",
    "    output = hand_detctor.process(rgb_frame)\n",
    "    hands = output.multi_hand_landmarks\n",
    "    if hands:\n",
    "        for hand in hands:\n",
    "            drawing_utils.draw_landmarks(frame, hand)\n",
    "            landmarks = hand.landmark\n",
    "            for id, landmark in enumerate(landmarks):\n",
    "                x = landmark.x\n",
    "                y = landmark.y\n",
    "                print(x, y)\n",
    "    cv2.imshow('Virtual Mouse', frame)\n",
    "    cv2.waitKey(1)  "
   ]
  },
  {
   "cell_type": "markdown",
   "id": "706a0518",
   "metadata": {},
   "source": [
    "## Fixing Miror error split frame width & height(L_8)"
   ]
  },
  {
   "cell_type": "code",
   "execution_count": null,
   "id": "a268bbcb",
   "metadata": {},
   "outputs": [],
   "source": [
    "import cv2\n",
    "import mediapipe as mp\n",
    "cam = cv2.VideoCapture(0)\n",
    "hand_detctor = mp.solutions.hands.Hands()\n",
    "drawing_utils = mp.solutions.drawing_utils\n",
    "while True:\n",
    "    _ , frame = cam.read()\n",
    "    frame = cv2.flip(frame, 1)\n",
    "    rgb_frame = cv2.cvtColor(frame, cv2.COLOR_BGR2RGB)\n",
    "    output = hand_detctor.process(rgb_frame)\n",
    "    hands = output.multi_hand_landmarks\n",
    "    if hands:\n",
    "        for hand in hands:\n",
    "            drawing_utils.draw_landmarks(frame, hand)\n",
    "            landmarks = hand.landmark\n",
    "            for id, landmark in enumerate(landmarks):\n",
    "                x = landmark.x\n",
    "                y = landmark.y\n",
    "                print(x, y)\n",
    "    cv2.imshow('Virtual Mouse', frame)\n",
    "    cv2.waitKey(1)  "
   ]
  },
  {
   "cell_type": "markdown",
   "id": "42585d3c",
   "metadata": {},
   "source": [
    "## Getting width of frame(L_9,+18,+19)"
   ]
  },
  {
   "cell_type": "code",
   "execution_count": null,
   "id": "4328708f",
   "metadata": {},
   "outputs": [],
   "source": [
    "import cv2\n",
    "import mediapipe as mp\n",
    "cam = cv2.VideoCapture(0)\n",
    "hand_detctor = mp.solutions.hands.Hands()\n",
    "drawing_utils = mp.solutions.drawing_utils\n",
    "while True:\n",
    "    _ , frame = cam.read()\n",
    "    frame = cv2.flip(frame, 1)\n",
    "    frame_height, frame_width, _ = frame.shape\n",
    "    rgb_frame = cv2.cvtColor(frame, cv2.COLOR_BGR2RGB)\n",
    "    output = hand_detctor.process(rgb_frame)\n",
    "    hands = output.multi_hand_landmarks\n",
    "    if hands:\n",
    "        for hand in hands:\n",
    "            drawing_utils.draw_landmarks(frame, hand)\n",
    "            landmarks = hand.landmark\n",
    "            for id, landmark in enumerate(landmarks):\n",
    "                x = landmark.x * frame_width\n",
    "                y = landmark.y * frame_height\n",
    "                print(x, y)\n",
    "    cv2.imshow('Virtual Mouse', frame)\n",
    "    cv2.waitKey(1)"
   ]
  },
  {
   "cell_type": "markdown",
   "id": "552bfe49",
   "metadata": {},
   "source": [
    "## convert width of frame in integer(L_+18,+19)"
   ]
  },
  {
   "cell_type": "code",
   "execution_count": null,
   "id": "7e415ad6",
   "metadata": {},
   "outputs": [],
   "source": [
    "import cv2\n",
    "import mediapipe as mp\n",
    "cam = cv2.VideoCapture(0)\n",
    "hand_detctor = mp.solutions.hands.Hands()\n",
    "drawing_utils = mp.solutions.drawing_utils\n",
    "while True:\n",
    "    _ , frame = cam.read()\n",
    "    frame = cv2.flip(frame, 1)\n",
    "    frame_height, frame_width, _ = frame.shape\n",
    "    rgb_frame = cv2.cvtColor(frame, cv2.COLOR_BGR2RGB)\n",
    "    output = hand_detctor.process(rgb_frame)\n",
    "    hands = output.multi_hand_landmarks\n",
    "    if hands:\n",
    "        for hand in hands:\n",
    "            drawing_utils.draw_landmarks(frame, hand)\n",
    "            landmarks = hand.landmark\n",
    "            for id, landmark in enumerate(landmarks):\n",
    "                x = int(landmark.x * frame_width)\n",
    "                y = int(landmark.y * frame_height)\n",
    "                print(x, y)\n",
    "    cv2.imshow('Virtual Mouse', frame)\n",
    "    cv2.waitKey(1)"
   ]
  },
  {
   "cell_type": "markdown",
   "id": "d8e1723d",
   "metadata": {},
   "source": [
    "## circle on index finger(L_21,22)"
   ]
  },
  {
   "cell_type": "code",
   "execution_count": null,
   "id": "eee00496",
   "metadata": {},
   "outputs": [],
   "source": [
    "import cv2\n",
    "import mediapipe as mp\n",
    "cam = cv2.VideoCapture(0)\n",
    "hand_detctor = mp.solutions.hands.Hands()\n",
    "drawing_utils = mp.solutions.drawing_utils\n",
    "while True:\n",
    "    _ , frame = cam.read()\n",
    "    frame = cv2.flip(frame, 1)\n",
    "    frame_height, frame_width, _ = frame.shape\n",
    "    rgb_frame = cv2.cvtColor(frame, cv2.COLOR_BGR2RGB)\n",
    "    output = hand_detctor.process(rgb_frame)\n",
    "    hands = output.multi_hand_landmarks\n",
    "    if hands:\n",
    "        for hand in hands:\n",
    "            drawing_utils.draw_landmarks(frame, hand)\n",
    "            landmarks = hand.landmark\n",
    "            for id, landmark in enumerate(landmarks):\n",
    "                x = int(landmark.x * frame_width)\n",
    "                y = int(landmark.y * frame_height)\n",
    "                print(x, y)\n",
    "                if id == 8:\n",
    "                    cv2.circle(img=frame , center=(x, y) , radius=10 , color=(0,255,255))\n",
    "    cv2.imshow('Virtual Mouse', frame)\n",
    "    cv2.waitKey(1)"
   ]
  },
  {
   "cell_type": "code",
   "execution_count": null,
   "id": "4555f134",
   "metadata": {},
   "outputs": [],
   "source": [
    "Moving mouse with finger(L_3,24)"
   ]
  },
  {
   "cell_type": "code",
   "execution_count": null,
   "id": "572afb99",
   "metadata": {},
   "outputs": [],
   "source": [
    "import cv2\n",
    "import mediapipe as mp\n",
    "import pyautogui\n",
    "cam = cv2.VideoCapture(0)\n",
    "hand_detctor = mp.solutions.hands.Hands()\n",
    "drawing_utils = mp.solutions.drawing_utils\n",
    "while True:\n",
    "    _ , frame = cam.read()\n",
    "    frame = cv2.flip(frame, 1)\n",
    "    frame_height, frame_width, _ = frame.shape\n",
    "    rgb_frame = cv2.cvtColor(frame, cv2.COLOR_BGR2RGB)\n",
    "    output = hand_detctor.process(rgb_frame)\n",
    "    hands = output.multi_hand_landmarks\n",
    "    if hands:\n",
    "        for hand in hands:\n",
    "            drawing_utils.draw_landmarks(frame, hand)\n",
    "            landmarks = hand.landmark\n",
    "            for id, landmark in enumerate(landmarks):\n",
    "                x = int(landmark.x * frame_width)\n",
    "                y = int(landmark.y * frame_height)\n",
    "                print(x, y)\n",
    "                if id == 8:\n",
    "                    cv2.circle(img=frame , center=(x, y) , radius=10 , color=(0,255,255))\n",
    "                    pyautogui.moveTo(x, y)\n",
    "    cv2.imshow('Virtual Mouse', frame)\n",
    "    cv2.waitKey(1)"
   ]
  },
  {
   "cell_type": "markdown",
   "id": "45bee2cb",
   "metadata": {},
   "source": [
    "# for getting screen size(L_7,25,26,+27)\n",
    "### beqause cursor is moving as frame size "
   ]
  },
  {
   "cell_type": "code",
   "execution_count": null,
   "id": "d2303393",
   "metadata": {},
   "outputs": [],
   "source": [
    "import cv2\n",
    "import mediapipe as mp\n",
    "import pyautogui\n",
    "cam = cv2.VideoCapture(0)\n",
    "hand_detctor = mp.solutions.hands.Hands()\n",
    "drawing_utils = mp.solutions.drawing_utils\n",
    "screen_width, screen_height = pyautogui.size()\n",
    "while True:\n",
    "    _ , frame = cam.read()\n",
    "    frame = cv2.flip(frame, 1)\n",
    "    frame_height, frame_width, _ = frame.shape\n",
    "    rgb_frame = cv2.cvtColor(frame, cv2.COLOR_BGR2RGB)\n",
    "    output = hand_detctor.process(rgb_frame)\n",
    "    hands = output.multi_hand_landmarks\n",
    "    if hands:\n",
    "        for hand in hands:\n",
    "            drawing_utils.draw_landmarks(frame, hand)\n",
    "            landmarks = hand.landmark\n",
    "            for id, landmark in enumerate(landmarks):\n",
    "                x = int(landmark.x * frame_width)\n",
    "                y = int(landmark.y * frame_height)\n",
    "                print(x, y)\n",
    "                if id == 8:\n",
    "                    cv2.circle(img=frame , center=(x, y) , radius=10 , color=(0,255,255))\n",
    "                    index_x = screen_width / frame_width * x\n",
    "                    index_y = screen_height/ frame_height * y\n",
    "                    pyautogui.moveTo(index_x, index_y)\n",
    "    cv2.imshow('Virtual Mouse', frame)\n",
    "    cv2.waitKey(1)"
   ]
  },
  {
   "cell_type": "markdown",
   "id": "844a21e2",
   "metadata": {},
   "source": [
    "## for Click Operation circle on thumb(L_28,29,30,31)"
   ]
  },
  {
   "cell_type": "code",
   "execution_count": null,
   "id": "ffbffd74",
   "metadata": {},
   "outputs": [],
   "source": [
    "import cv2\n",
    "import mediapipe as mp\n",
    "import pyautogui\n",
    "cam = cv2.VideoCapture(0)\n",
    "hand_detctor = mp.solutions.hands.Hands()\n",
    "drawing_utils = mp.solutions.drawing_utils\n",
    "screen_width, screen_height = pyautogui.size()\n",
    "while True:\n",
    "    _ , frame = cam.read()\n",
    "    frame = cv2.flip(frame, 1)\n",
    "    frame_height, frame_width, _ = frame.shape\n",
    "    rgb_frame = cv2.cvtColor(frame, cv2.COLOR_BGR2RGB)\n",
    "    output = hand_detctor.process(rgb_frame)\n",
    "    hands = output.multi_hand_landmarks\n",
    "    if hands:\n",
    "        for hand in hands:\n",
    "            drawing_utils.draw_landmarks(frame, hand)\n",
    "            landmarks = hand.landmark\n",
    "            for id, landmark in enumerate(landmarks):\n",
    "                x = int(landmark.x * frame_width)\n",
    "                y = int(landmark.y * frame_height)\n",
    "                print(x, y)\n",
    "                if id == 8:\n",
    "                    cv2.circle(img=frame , center=(x, y) , radius=10 , color=(0,255,255))\n",
    "                    index_x = screen_width / frame_width * x\n",
    "                    index_y = screen_height/ frame_height * y\n",
    "                    pyautogui.moveTo(index_x, index_y)\n",
    "                if id == 4:\n",
    "                    cv2.circle(img=frame , center=(x, y) , radius=10 , color=(0,255,255))\n",
    "                    index_x = screen_width / frame_width * x\n",
    "                    index_y = screen_height/ frame_height * y\n",
    "    cv2.imshow('Virtual Mouse', frame)\n",
    "    cv2.waitKey(1)"
   ]
  },
  {
   "cell_type": "markdown",
   "id": "1629b468",
   "metadata": {},
   "source": [
    "# Click operation(L_+31,+32,8,33,34,35)"
   ]
  },
  {
   "cell_type": "code",
   "execution_count": null,
   "id": "c42d51e7",
   "metadata": {},
   "outputs": [],
   "source": [
    "import cv2\n",
    "import mediapipe as mp\n",
    "import pyautogui\n",
    "cam = cv2.VideoCapture(0)\n",
    "hand_detctor = mp.solutions.hands.Hands()\n",
    "drawing_utils = mp.solutions.drawing_utils\n",
    "screen_width, screen_height = pyautogui.size()\n",
    "index_y = 0\n",
    "while True:\n",
    "    _ , frame = cam.read()\n",
    "    frame = cv2.flip(frame, 1)\n",
    "    frame_height, frame_width, _ = frame.shape\n",
    "    rgb_frame = cv2.cvtColor(frame, cv2.COLOR_BGR2RGB)\n",
    "    output = hand_detctor.process(rgb_frame)\n",
    "    hands = output.multi_hand_landmarks\n",
    "    if hands:\n",
    "        for hand in hands:\n",
    "            drawing_utils.draw_landmarks(frame, hand)\n",
    "            landmarks = hand.landmark\n",
    "            for id, landmark in enumerate(landmarks):\n",
    "                x = int(landmark.x * frame_width)\n",
    "                y = int(landmark.y * frame_height)\n",
    "                print(x, y)\n",
    "                if id == 8:\n",
    "                    cv2.circle(img=frame , center=(x, y) , radius=10 , color=(0,255,255))\n",
    "                    index_x = screen_width / frame_width * x\n",
    "                    index_y = screen_height/ frame_height * y\n",
    "                    pyautogui.moveTo(index_x, index_y)\n",
    "                if id == 4:\n",
    "                    cv2.circle(img=frame , center=(x, y) , radius=10 , color=(0,255,255))\n",
    "                    thumb_x = screen_width / frame_width * x\n",
    "                    thumb_y = screen_height/ frame_height * y\n",
    "                    print(abs(index_y - thumb_y))\n",
    "                    if abs(index_y - thumb_y) < 20:\n",
    "                        print(\"click\")\n",
    "    cv2.imshow('Virtual Mouse', frame)\n",
    "    cv2.waitKey(1)"
   ]
  },
  {
   "cell_type": "markdown",
   "id": "1c4bf051",
   "metadata": {},
   "source": [
    "# Test click operation(L_d23,+32)"
   ]
  },
  {
   "cell_type": "code",
   "execution_count": null,
   "id": "99ad20e7",
   "metadata": {},
   "outputs": [],
   "source": [
    "import cv2\n",
    "import mediapipe as mp\n",
    "import pyautogui\n",
    "cam = cv2.VideoCapture(0)\n",
    "hand_detctor = mp.solutions.hands.Hands()\n",
    "drawing_utils = mp.solutions.drawing_utils\n",
    "screen_width, screen_height = pyautogui.size()\n",
    "index_y = 0\n",
    "while True:\n",
    "    _ , frame = cam.read()\n",
    "    frame = cv2.flip(frame, 1)\n",
    "    frame_height, frame_width, _ = frame.shape\n",
    "    rgb_frame = cv2.cvtColor(frame, cv2.COLOR_BGR2RGB)\n",
    "    output = hand_detctor.process(rgb_frame)\n",
    "    hands = output.multi_hand_landmarks\n",
    "    if hands:\n",
    "        for hand in hands:\n",
    "            drawing_utils.draw_landmarks(frame, hand)\n",
    "            landmarks = hand.landmark\n",
    "            for id, landmark in enumerate(landmarks):\n",
    "                x = int(landmark.x * frame_width)\n",
    "                y = int(landmark.y * frame_height)\n",
    "                if id == 8:\n",
    "                    cv2.circle(img=frame , center=(x, y) , radius=10 , color=(0,255,255))\n",
    "                    index_x = screen_width / frame_width * x\n",
    "                    index_y = screen_height/ frame_height * y\n",
    "                    pyautogui.moveTo(index_x, index_y)\n",
    "                if id == 4:\n",
    "                    cv2.circle(img=frame , center=(x, y) , radius=10 , color=(0,255,255))\n",
    "                    thumb_x = screen_width / frame_width * x\n",
    "                    thumb_y = screen_height/ frame_height * y\n",
    "                    print('outside',abs(index_y - thumb_y))\n",
    "                    if abs(index_y - thumb_y) < 20:\n",
    "                        print(\"click\")\n",
    "    cv2.imshow('Virtual Mouse', frame)\n",
    "    cv2.waitKey(1) "
   ]
  },
  {
   "cell_type": "markdown",
   "id": "ed54f59b",
   "metadata": {},
   "source": [
    "# Final(L_-34,35)"
   ]
  },
  {
   "cell_type": "code",
   "execution_count": null,
   "id": "7699d83b",
   "metadata": {},
   "outputs": [],
   "source": [
    "import cv2\n",
    "import mediapipe as mp\n",
    "import pyautogui\n",
    "cam = cv2.VideoCapture(0)\n",
    "hand_detctor = mp.solutions.hands.Hands()\n",
    "drawing_utils = mp.solutions.drawing_utils\n",
    "screen_width, screen_height = pyautogui.size()\n",
    "index_y = 0\n",
    "while True:\n",
    "    _ , frame = cam.read()\n",
    "    frame = cv2.flip(frame, 1)\n",
    "    frame_height, frame_width, _ = frame.shape\n",
    "    rgb_frame = cv2.cvtColor(frame, cv2.COLOR_BGR2RGB)\n",
    "    output = hand_detctor.process(rgb_frame)\n",
    "    hands = output.multi_hand_landmarks\n",
    "    if hands:\n",
    "        for hand in hands:\n",
    "            drawing_utils.draw_landmarks(frame, hand)\n",
    "            landmarks = hand.landmark\n",
    "            for id, landmark in enumerate(landmarks):\n",
    "                x = int(landmark.x * frame_width)\n",
    "                y = int(landmark.y * frame_height)\n",
    "                if id == 8:\n",
    "                    cv2.circle(img=frame , center=(x, y) , radius=10 , color=(0,255,255))\n",
    "                    index_x = screen_width / frame_width * x\n",
    "                    index_y = screen_height/ frame_height * y\n",
    "                    pyautogui.moveTo(index_x, index_y)\n",
    "                if id == 4:\n",
    "                    cv2.circle(img=frame , center=(x, y) , radius=10 , color=(0,255,255))\n",
    "                    thumb_x = screen_width / frame_width * x\n",
    "                    thumb_y = screen_height/ frame_height * y\n",
    "                    print('outside',abs(index_y - thumb_y))\n",
    "                    if abs(index_y - thumb_y) < 20:\n",
    "                        pyautogui.click()\n",
    "                        pyautogui.sleep(1)\n",
    "    cv2.imshow('Virtual Mouse', frame)\n",
    "    cv2.waitKey(1) "
   ]
  },
  {
   "cell_type": "code",
   "execution_count": null,
   "id": "4a7c95db",
   "metadata": {},
   "outputs": [],
   "source": []
  }
 ],
 "metadata": {
  "kernelspec": {
   "display_name": "Python 3 (ipykernel)",
   "language": "python",
   "name": "python3"
  },
  "language_info": {
   "codemirror_mode": {
    "name": "ipython",
    "version": 3
   },
   "file_extension": ".py",
   "mimetype": "text/x-python",
   "name": "python",
   "nbconvert_exporter": "python",
   "pygments_lexer": "ipython3",
   "version": "3.9.12"
  }
 },
 "nbformat": 4,
 "nbformat_minor": 5
}
